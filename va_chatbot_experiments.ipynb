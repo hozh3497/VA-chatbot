{
 "cells": [
  {
   "cell_type": "code",
   "execution_count": 1,
   "id": "99975dc3-5d50-44cc-af9b-201f4a317887",
   "metadata": {},
   "outputs": [],
   "source": [
    "import requests\n",
    "from bs4 import BeautifulSoup\n",
    "from pprint import pprint"
   ]
  },
  {
   "cell_type": "code",
   "execution_count": 1,
   "id": "40e4ec63-c185-4a94-b4ee-7d9a6b4f4e78",
   "metadata": {},
   "outputs": [
    {
     "name": "stdout",
     "output_type": "stream",
     "text": [
      "https://www.va.gov/disability/after-you-file-claim/\n",
      "https://www.va.gov/change-address/\n",
      "https://www.va.gov/change-direct-deposit/\n",
      "https://www.va.gov/claim-or-appeal-status/\n",
      "https://www.va.gov/decision-reviews/\n",
      "https://www.va.gov/disability/eligibility/hazardous-materials-exposure/\n",
      "https://www.va.gov/disability/eligibility/illnesses-within-one-year-of-discharge/\n",
      "https://www.va.gov/disability/eligibility/ptsd/\n",
      "https://www.va.gov/disability/eligibility/special-claims/\n",
      "https://www.va.gov/disability/how-to-file-claim/additional-forms/\n",
      "TABLE!!\n",
      "https://www.va.gov/disability/how-to-file-claim/evidence-needed/fully-developed-claims/\n",
      "https://www.va.gov/disability/upload-supporting-evidence/\n",
      "https://www.va.gov/va-payment-history/\n",
      "https://www.va.gov/disability/view-disability-rating/\n",
      "https://www.va.gov/disability/how-to-file-claim/additional-forms/\n",
      "TABLE!!\n",
      "https://www.va.gov/disability/dependency-indemnity-compensation/\n",
      "https://www.va.gov/disability/how-to-file-claim/when-to-file/\n",
      "https://www.va.gov/disability/how-to-file-claim/evidence-needed/\n",
      "https://www.va.gov/disability/how-to-file-claim/\n",
      "https://www.va.gov/disability/eligibility/\n",
      "https://www.va.gov/decision-reviews/supplemental-claim/\n",
      "https://www.va.gov/decision-reviews/higher-level-review/\n",
      "https://www.va.gov/decision-reviews/board-appeal/\n",
      "https://www.va.gov/decision-reviews/after-you-request-review/\n",
      "https://www.va.gov/decision-reviews/contested-claims/\n",
      "https://www.va.gov/decision-reviews/insurance-claims/\n",
      "https://www.va.gov/decision-reviews/fiduciary-claims/\n",
      "https://www.va.gov/disability/effective-date/\n",
      "https://www.va.gov/disability/about-disability-ratings/after-you-get-a-rating/\n",
      "https://www.va.gov/claim-or-appeal-status/\n",
      "https://www.va.gov/decision-reviews/legacy-appeals/\n",
      "https://www.va.gov/resources/decision-reviews-faqs/\n"
     ]
    }
   ],
   "source": [
    "from src.data_processor import parse_html, process_text\n",
    "from data.source import URL\n",
    "import re\n",
    "\n",
    "\n",
    "chunks = []\n",
    "for url in URL:\n",
    "    text = parse_html(url)\n",
    "    text = re.sub(\"\\{[^)]*\\}\", \"\", text)\n",
    "    chunks.append(text)\n"
   ]
  },
  {
   "cell_type": "code",
   "execution_count": null,
   "id": "a982ca24-4ba3-423a-bd84-cf8a3713dc6a",
   "metadata": {},
   "outputs": [],
   "source": []
  },
  {
   "cell_type": "code",
   "execution_count": 82,
   "id": "f8e2e41b-fe6b-497a-8556-59c82f2e8c0b",
   "metadata": {},
   "outputs": [],
   "source": [
    "url = 'https://www.va.gov/disability/file-disability-claim-form-21-526ez/introduction'\n",
    "data = requests.get(url)\n",
    "\n",
    "my_data = []\n",
    "\n",
    "html = BeautifulSoup(data.text, 'html.parser')\n",
    "articles = html.select('p')\n"
   ]
  },
  {
   "cell_type": "code",
   "execution_count": 2,
   "id": "c93fcf71-bb71-445b-b542-7949f50d92b5",
   "metadata": {},
   "outputs": [],
   "source": [
    "from langchain.vectorstores import FAISS\n",
    "from langchain.text_splitter import RecursiveCharacterTextSplitter\n",
    "from langchain.document_loaders import PyPDFLoader, DirectoryLoader\n",
    "from langchain.embeddings import HuggingFaceEmbeddings"
   ]
  },
  {
   "cell_type": "code",
   "execution_count": 3,
   "id": "2c395493-c728-481c-9654-33e36a5cee72",
   "metadata": {},
   "outputs": [
    {
     "name": "stderr",
     "output_type": "stream",
     "text": [
      "/Users/hzhang4/vachat/.venv/lib/python3.8/site-packages/tqdm/auto.py:21: TqdmWarning: IProgress not found. Please update jupyter and ipywidgets. See https://ipywidgets.readthedocs.io/en/stable/user_install.html\n",
      "  from .autonotebook import tqdm as notebook_tqdm\n"
     ]
    }
   ],
   "source": [
    "embeddings = HuggingFaceEmbeddings(model_name='sentence-transformers/all-MiniLM-L6-v2',\n",
    "                                   model_kwargs={'device': 'cpu'})"
   ]
  },
  {
   "cell_type": "code",
   "execution_count": 4,
   "id": "250dfa5f-1d04-4aab-9e89-47d3d3389d89",
   "metadata": {},
   "outputs": [],
   "source": [
    "from langchain.text_splitter import MarkdownHeaderTextSplitter\n",
    "\n",
    "headers_to_split_on = [\n",
    "    (\"<topic>\", \"topic\"), (\"<descriptor>\", \"context\")\n",
    "]\n",
    "markdown_splitter = MarkdownHeaderTextSplitter(headers_to_split_on=headers_to_split_on)\n",
    "md_header_splits = markdown_splitter.split_text(\"\\n\\n\".join(chunks))"
   ]
  },
  {
   "cell_type": "code",
   "execution_count": 5,
   "id": "7fe7d723-e173-4c95-bfd4-ace0d81c0c69",
   "metadata": {},
   "outputs": [],
   "source": [
    "text_splitter = RecursiveCharacterTextSplitter(\n",
    "    chunk_size=500, chunk_overlap=100\n",
    ")\n",
    "docs = text_splitter.split_documents(md_header_splits)"
   ]
  },
  {
   "cell_type": "code",
   "execution_count": 6,
   "id": "975cd2fd-400d-4809-b8f7-22be446d18b8",
   "metadata": {},
   "outputs": [],
   "source": [
    "vectorstore = FAISS.from_documents(docs, embeddings)\n",
    "# vectorstore.save_local('vectorstore/db_faiss')"
   ]
  },
  {
   "cell_type": "code",
   "execution_count": 50,
   "id": "f973f9fc-eb74-4fe0-b094-ed3e99c7e140",
   "metadata": {},
   "outputs": [
    {
     "name": "stdout",
     "output_type": "stream",
     "text": [
      "<content> Do I need to turn in any additional forms? In some cases, you may need to turn in one or more additional forms to support your disability claim. If you’re: You’ll need to turn in: If you’re: A National Guard and Reserve member You’ll need to turn in: All your service treatment and personnel records from your unit(s) If you’re: Claiming Individual Unemployability You’ll need to turn in: Both of these: A Veteran’s Application for Increased Compensation Based on Unemployability (VA Form\n",
      "<content> Do I need to turn in any additional forms? In some cases, you may need to turn in one or more additional forms to support your disability claim. If you’re: You’ll need to turn in: If you’re: A National Guard and Reserve member You’ll need to turn in: All your service treatment and personnel records from your unit(s) If you’re: Claiming Individual Unemployability You’ll need to turn in: Both of these: A Veteran’s Application for Increased Compensation Based on Unemployability (VA Form\n",
      "<content> Supporting forms for VA claims               Find additional forms that you may need to support your claim.  \n",
      "<title> About VA DIC For Spouses, Dependents, And Parents | Veterans Affairs\n",
      "<content> Supporting forms for VA claims               Find additional forms that you may need to support your claim.  \n",
      "<title> VA Fully Developed Claims Program | Veterans Affairs\n",
      "can upload the form now. Find out how to upload your completed self-assessment form\n"
     ]
    }
   ],
   "source": [
    "results = vectorstore.similarity_search(\"Do I need to turn in any additional forms?\", k=5)\n",
    "\n",
    "for res in results:\n",
    "    print(res.page_content)"
   ]
  },
  {
   "cell_type": "code",
   "execution_count": 7,
   "id": "29ed9603-346b-44cc-bffe-55e30e49f394",
   "metadata": {},
   "outputs": [],
   "source": [
    "# notes:\n",
    "# page title: html.title.text\n",
    "# topic content: \"va-introtext\"\n",
    "# tags for questions: \"vads-u-display--flex\"\n",
    "#          answers to the question: \"processed-content\"\n",
    "#          additional questions: \"va-nav-linkslist-heading\" and \"va-nav-linkslist-list\""
   ]
  },
  {
   "cell_type": "code",
   "execution_count": 7,
   "id": "2676c8b8-780f-412d-b3a1-57ed94870a37",
   "metadata": {},
   "outputs": [],
   "source": [
    "from langchain.llms import CTransformers\n",
    "\n",
    "# Local CTransformers wrapper for Llama-2-7B-Chat\n",
    "llm = CTransformers(model='model/llama-2-7b-chat.ggmlv3.q4_0.bin',  # Location of downloaded GGML model\n",
    "                    model_type='llama',  # Model type Llama\n",
    "                    config={'max_new_tokens': 256,\n",
    "                            'temperature': 0.1})\n"
   ]
  },
  {
   "cell_type": "code",
   "execution_count": 8,
   "id": "ea30f012-e89e-4221-8ed7-73a82da2bd4e",
   "metadata": {},
   "outputs": [],
   "source": [
    "from langchain.chains import RetrievalQA, StuffDocumentsChain, LLMChain, ConversationalRetrievalChain\n",
    "from langchain import PromptTemplate\n",
    "\n",
    "\n",
    "prompt = \"\"\"\n",
    "You are a helpful and knowledgeable agent familiar with US veteran affairs (VA).\n",
    "You will be asked questions about VA insurance policies.\n",
    "Use the following pieces of information to answer the user's question.\n",
    "If you don't know the answer, just say that you don't know, don't try to make up an answer.\n",
    "\n",
    "Context: {context}\n",
    "Question: {question}\n",
    "\n",
    "Only return the helpful answer below and nothing else.\n",
    "Make sure to use complete sentence to answer the question.\n",
    "Helpful answer:\n",
    "\"\"\"\n",
    "\n",
    "def set_qa_prompt(prompt):\n",
    "    prompt = PromptTemplate(template=prompt,\n",
    "                            input_variables=['context', 'question'])\n",
    "    return prompt\n",
    "\n",
    "\n",
    "qa_prompt = set_qa_prompt(prompt)\n",
    "\n",
    "dbqa = RetrievalQA.from_chain_type(llm=llm,\n",
    "                                   chain_type='stuff',\n",
    "  \t                               retriever=vectorstore.as_retriever(search_kwargs={'k':3}),\n",
    "                                   return_source_documents=True,\n",
    "                                   chain_type_kwargs={'prompt': qa_prompt})\n",
    "\n",
    "\n",
    "document_prompt = PromptTemplate(\n",
    "    input_variables=[\"page_content\"],\n",
    "    template=\"{page_content}\"\n",
    ")\n",
    "document_variable_name = \"title\"\n",
    "# The prompt here should take as an input variable the\n",
    "# `document_variable_name`\n",
    "prompt_ = PromptTemplate.from_template(\n",
    "    \"Summarize this content: {title}\"\n",
    ")\n",
    "llm_chain = LLMChain(llm=llm, prompt=prompt_)\n",
    "combine_docs_chain = StuffDocumentsChain(\n",
    "                     llm_chain=llm_chain,\n",
    "                     document_prompt=document_prompt,\n",
    "                     document_variable_name=document_variable_name\n",
    "                     )\n",
    "\n",
    "\n",
    "template = (\n",
    "    \"Combine the chat history and follow up question into \"\n",
    "    \"a standalone question. Chat History: {chat_history}\"\n",
    "    \"Follow up question: {question}\"\n",
    "    \"Make sure to use complete sentence to answer the question.\"\n",
    ")\n",
    "\n",
    "prompt_combine = PromptTemplate.from_template(template)\n",
    "question_generator_chain = LLMChain(llm=llm, prompt=prompt_combine)\n",
    "chain = ConversationalRetrievalChain(\n",
    "        combine_docs_chain=combine_docs_chain,\n",
    "        return_source_documents=True,\n",
    "        retriever=vectorstore.as_retriever(search_kwargs={'k':3}),\n",
    "        question_generator=question_generator_chain,\n",
    "        )\n",
    "\n",
    "\n",
    "        \n",
    "        # qa_prompt=SUPPORT_PROMPT,\n",
    "        "
   ]
  },
  {
   "cell_type": "code",
   "execution_count": 51,
   "id": "24126d56-76be-46db-9b39-309011c89d7c",
   "metadata": {},
   "outputs": [],
   "source": [
    "import json\n",
    "chat_history = []\n",
    "def generate_response(support_qa, prompt):\n",
    "    response = support_qa({\"question\": prompt, \"chat_history\": chat_history})\n",
    "    chat_history.append((prompt, response[\"answer\"]))\n",
    "    print( json.dumps(chat_history))\n",
    "    return response['answer']"
   ]
  },
  {
   "cell_type": "code",
   "execution_count": 43,
   "id": "0c099d78-98af-4479-84ab-fb87d73bbeb5",
   "metadata": {},
   "outputs": [
    {
     "data": {
      "text/plain": [
       "{'question': 'what additional information should I provide?',\n",
       " 'chat_history': [],\n",
       " 'answer': ' a condition that’s related to an original service-connected condition. You can submit evidence of: A current physical or mental disability from a medical professional or layperson (someone who’s not a trained professional), and An event, injury, or disease that happened during your active-duty service, and A link between your current disability and the original service-connected condition. You can ask for supporting statements from people who know about, or who you’ve talked to about, your claimed medical condition and how and when it occurred. You can also submit evidence of any secondary conditions that have developed as a result of the original service-connected condition. Secondary service-connected claim—a claim for a condition that’s related to an original service-connected condition. You can submit evidence of: A current physical or mental disability from ail mental disability from a mental disability from a mental disability from a mental disability from a mental disability from a mental disability from a mental disability from a mental disability from a mental disability from a mental disability from a mental disability from a mental disability or mental disability from ail mental disability from a mental disability from a mental disability from a mental'}"
      ]
     },
     "execution_count": 43,
     "metadata": {},
     "output_type": "execute_result"
    }
   ],
   "source": [
    "ans = chain({'question': \"what additional information should I provide?\", 'chat_history': []})"
   ]
  },
  {
   "cell_type": "code",
   "execution_count": 53,
   "id": "ba0a2424-fd72-47cb-afb4-cedcd91eb4c6",
   "metadata": {},
   "outputs": [
    {
     "name": "stdout",
     "output_type": "stream",
     "text": [
      "[[\"what information should I provide?\", \" a condition that\\u2019s related to an original service-connected condition. You can submit evidence of: A current physical or mental disability from a medical professional or layperson (someone who\\u2019s not a trained professional), and An event, injury, or disease that happened during your active-duty service, and A link between your current disability and the original service-connected condition. Usually, we need medical records or medical opinions from health care providers to support this link.</content>\\n\\n\"], [\"what else should I know?\", \". If you experienced one of these events while serving in the military, we may consider it a service-connected condition.\\n\\n<title> VA Decision Reviews And Appeals | Veterans Affairs</title> \"]]\n"
     ]
    },
    {
     "data": {
      "text/plain": [
       "'. If you experienced one of these events while serving in the military, we may consider it a service-connected condition.\\n\\n<title> VA Decision Reviews And Appeals | Veterans Affairs</title> '"
      ]
     },
     "execution_count": 53,
     "metadata": {},
     "output_type": "execute_result"
    }
   ],
   "source": [
    "generate_response(chain, \"what else should I know?\")"
   ]
  },
  {
   "cell_type": "code",
   "execution_count": 10,
   "id": "010fc082-f429-4773-ae32-4c86ea86acf9",
   "metadata": {},
   "outputs": [
    {
     "data": {
      "text/plain": [
       "{'query': 'what is the review process?',\n",
       " 'result': 'A Higher-Level Review typically takes an average of 125 days (4 to 5 months) to complete, with the goal of resolving any identified errors in the decision-making process. If you request an informal conference as part of your Higher-Level Review, it may take longer to complete. Alternatively, you can submit a written statement with your application to identify errors and help us make a decision faster.',\n",
       " 'source_documents': [Document(page_content='information you want to talk about with the reviewer ready. Prepare to explain any errors in your case.', metadata={'topic': 'How do I ask for an informal conference?'}),\n",
       "  Document(page_content='You can also request a Higher-Level Review by filling\\xa0out a Decision Review Request: Higher-Level Review (VA Form 20-0996). Get VA Form 20-0996 to download Learn more about how to request a Higher-Level Review Note: You can’t submit any evidence. You and/or your representative can speak with the reviewer on the phone. You can tell them why you think the decision should be changed and identify errors. How long does a Higher-Level Review take? Our goal for completing Higher-Level Reviews is an', metadata={'topic': 'Ask for a Higher-Level Review'}),\n",
       "  Document(page_content='<content> How long does a Higher-Level Review take? Our goal for completing Higher-Level Reviews is an average of 125 days (4 to 5 months). Note: If you ask for an informal conference as part of your Higher-Level Review, it may take us longer to complete. Instead, you may want to consider submitting a written statement with your application to tell us about the errors you’ve identified. This will help us make a decision faster.', metadata={'topic': 'How long does a Higher-Level Review take?'})]}"
      ]
     },
     "execution_count": 10,
     "metadata": {},
     "output_type": "execute_result"
    }
   ],
   "source": [
    "dbqa({'query': \"what is the review process?\"})"
   ]
  },
  {
   "cell_type": "code",
   "execution_count": 9,
   "id": "105db18b-de42-4a00-b720-ecfedf74bc2d",
   "metadata": {},
   "outputs": [
    {
     "data": {
      "text/plain": [
       "{'query': 'how do I file additional information?',\n",
       " 'result': 'To file additional information with your VA claim, you can use the Decision Review Request: Supplemental Claim (VA Form 20-0995). This form allows you to add new and relevant evidence that supports your case or identifies evidence for review by a reviewer. You can download the form from the VA website or pick one up at any VA regional office. Once you have completed the form, form, form, form, form, form, form, form, form, form, form, form, form, form, form, form, form, form, form, form, form, form, form, form, form, form, form, form, form, form, form, you can, form, form, form, form, form, form, form, form, form, form, form, form, form, form, form, form, form, form, form, form, form, form, form, form, form, form, form, form, form, form, form, you can, form, form, form, form, form, form, form, form, form, form, form, form, form, form, form, form, form, form, form, form',\n",
       " 'source_documents': [Document(page_content='<content> Add new and relevant evidence with a Supplemental Claim When you choose to file a Supplemental Claim, you’re adding new evidence that supports your case or identifying evidence for review. A reviewer will determine whether the new evidence changes the decision. How do I file a Supplemental Claim? You’ll need to fill out a Decision Review Request: Supplemental Claim (VA Form 20-0995). Get VA Form 20-0995 to download Learn more about how to file a Supplemental Claim Note: You must add', metadata={'topic': 'Add new and relevant evidence with a Supplemental Claim'}),\n",
       "  Document(page_content='<content> Decision review options Add new and relevant evidence with a Supplemental Claim Fill out a Decision Review Request: Supplemental Claim (VA Form 20-0995). Get VA Form 20-0995\\xa0to download When you choose to file a Supplemental Claim, you’re adding new evidence that supports your case or identifying evidence for review. A reviewer will determine whether the new evidence changes the decision. Learn how to file a Supplemental Claim Note: You must add evidence that VA didn’t have before that', metadata={'topic': 'Decision review options'}),\n",
       "  Document(page_content='can update your direct deposit information with the Direct Deposit Sign-Up Form (VA Form SF-1199a). Get\\xa0VA Form SF-1199a\\xa0to download', metadata={'topic': 'How else can I update my VA payment information?'})]}"
      ]
     },
     "execution_count": 9,
     "metadata": {},
     "output_type": "execute_result"
    }
   ],
   "source": [
    "dbqa({'query': \"how do I file additional information?\"})"
   ]
  }
 ],
 "metadata": {
  "kernelspec": {
   "display_name": ".venv",
   "language": "python",
   "name": ".venv"
  },
  "language_info": {
   "codemirror_mode": {
    "name": "ipython",
    "version": 3
   },
   "file_extension": ".py",
   "mimetype": "text/x-python",
   "name": "python",
   "nbconvert_exporter": "python",
   "pygments_lexer": "ipython3",
   "version": "3.8.13"
  }
 },
 "nbformat": 4,
 "nbformat_minor": 5
}
